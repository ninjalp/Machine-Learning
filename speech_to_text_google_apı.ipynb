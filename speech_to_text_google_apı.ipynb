{
 "cells": [
  {
   "cell_type": "code",
   "execution_count": 4,
   "metadata": {},
   "outputs": [
    {
     "name": "stdout",
     "output_type": "stream",
     "text": [
      "Konuşun:\n",
      "Algılanan Metin: Merhaba nasılsın\n"
     ]
    }
   ],
   "source": [
    "import speech_recognition as sr\n",
    " \n",
    "recognizer = sr.Recognizer()\n",
    "\n",
    "with sr.Microphone() as source:\n",
    "    print(\"Konuşun:\")\n",
    "    audio = recognizer.listen(source)\n",
    "\n",
    "    try:\n",
    "        \n",
    "        text = recognizer.recognize_google(audio, language=\"tr-TR\") # google apı , \n",
    "        print(\"Algılanan Metin: \" + text)\n",
    "        \n",
    "    except sr.UnknownValueError:\n",
    "        print(\"Söylediğinizi anlayamadım.\")\n",
    "    except sr.RequestError:\n",
    "        print(\"Google API'ye ulaşılamadı.\")\n"
   ]
  },
  {
   "cell_type": "code",
   "execution_count": null,
   "metadata": {},
   "outputs": [],
   "source": [
    " \n"
   ]
  },
  {
   "cell_type": "code",
   "execution_count": null,
   "metadata": {},
   "outputs": [],
   "source": []
  },
  {
   "cell_type": "code",
   "execution_count": null,
   "metadata": {},
   "outputs": [],
   "source": []
  },
  {
   "cell_type": "code",
   "execution_count": null,
   "metadata": {},
   "outputs": [],
   "source": []
  }
 ],
 "metadata": {
  "kernelspec": {
   "display_name": "Python 3",
   "language": "python",
   "name": "python3"
  },
  "language_info": {
   "codemirror_mode": {
    "name": "ipython",
    "version": 3
   },
   "file_extension": ".py",
   "mimetype": "text/x-python",
   "name": "python",
   "nbconvert_exporter": "python",
   "pygments_lexer": "ipython3",
   "version": "3.9.0"
  }
 },
 "nbformat": 4,
 "nbformat_minor": 2
}
