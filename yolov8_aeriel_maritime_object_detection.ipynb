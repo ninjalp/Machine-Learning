{
  "nbformat": 4,
  "nbformat_minor": 0,
  "metadata": {
    "colab": {
      "provenance": [],
      "gpuType": "T4"
    },
    "kernelspec": {
      "name": "python3",
      "display_name": "Python 3"
    },
    "language_info": {
      "name": "python"
    },
    "accelerator": "GPU",
    "widgets": {
      "application/vnd.jupyter.widget-state+json": {
        "8439f2dac6fa4d7b8cd3c7465c4a3235": {
          "model_module": "@jupyter-widgets/controls",
          "model_name": "HBoxModel",
          "model_module_version": "1.5.0",
          "state": {
            "_dom_classes": [],
            "_model_module": "@jupyter-widgets/controls",
            "_model_module_version": "1.5.0",
            "_model_name": "HBoxModel",
            "_view_count": null,
            "_view_module": "@jupyter-widgets/controls",
            "_view_module_version": "1.5.0",
            "_view_name": "HBoxView",
            "box_style": "",
            "children": [
              "IPY_MODEL_cd87e6e112e148e6823b0050f31c087c",
              "IPY_MODEL_d921dac1223849a4acd007df7b52fb9c",
              "IPY_MODEL_799346fb54354539b3e906055921e682"
            ],
            "layout": "IPY_MODEL_24d8d9b9a8a8463f9f25910c0044e6bc"
          }
        },
        "cd87e6e112e148e6823b0050f31c087c": {
          "model_module": "@jupyter-widgets/controls",
          "model_name": "HTMLModel",
          "model_module_version": "1.5.0",
          "state": {
            "_dom_classes": [],
            "_model_module": "@jupyter-widgets/controls",
            "_model_module_version": "1.5.0",
            "_model_name": "HTMLModel",
            "_view_count": null,
            "_view_module": "@jupyter-widgets/controls",
            "_view_module_version": "1.5.0",
            "_view_name": "HTMLView",
            "description": "",
            "description_tooltip": null,
            "layout": "IPY_MODEL_d4c3c44076d34ac4b5114dbb89e0d9d1",
            "placeholder": "​",
            "style": "IPY_MODEL_5f416d98d344417bb4a2b80237cee25e",
            "value": "  0%"
          }
        },
        "d921dac1223849a4acd007df7b52fb9c": {
          "model_module": "@jupyter-widgets/controls",
          "model_name": "FloatProgressModel",
          "model_module_version": "1.5.0",
          "state": {
            "_dom_classes": [],
            "_model_module": "@jupyter-widgets/controls",
            "_model_module_version": "1.5.0",
            "_model_name": "FloatProgressModel",
            "_view_count": null,
            "_view_module": "@jupyter-widgets/controls",
            "_view_module_version": "1.5.0",
            "_view_name": "ProgressView",
            "bar_style": "danger",
            "description": "",
            "description_tooltip": null,
            "layout": "IPY_MODEL_017a584809aa40ef942bffd53acf8c59",
            "max": 4,
            "min": 0,
            "orientation": "horizontal",
            "style": "IPY_MODEL_ca5f3390d87a45b7b9d64a1fb4a19664",
            "value": 0
          }
        },
        "799346fb54354539b3e906055921e682": {
          "model_module": "@jupyter-widgets/controls",
          "model_name": "HTMLModel",
          "model_module_version": "1.5.0",
          "state": {
            "_dom_classes": [],
            "_model_module": "@jupyter-widgets/controls",
            "_model_module_version": "1.5.0",
            "_model_name": "HTMLModel",
            "_view_count": null,
            "_view_module": "@jupyter-widgets/controls",
            "_view_module_version": "1.5.0",
            "_view_name": "HTMLView",
            "description": "",
            "description_tooltip": null,
            "layout": "IPY_MODEL_bd0ced7748824d9da13652911cbdfdb6",
            "placeholder": "​",
            "style": "IPY_MODEL_b464e4871b2044cd9ccc0057c8224734",
            "value": " 0/4 [00:00&lt;?, ?it/s]"
          }
        },
        "24d8d9b9a8a8463f9f25910c0044e6bc": {
          "model_module": "@jupyter-widgets/base",
          "model_name": "LayoutModel",
          "model_module_version": "1.2.0",
          "state": {
            "_model_module": "@jupyter-widgets/base",
            "_model_module_version": "1.2.0",
            "_model_name": "LayoutModel",
            "_view_count": null,
            "_view_module": "@jupyter-widgets/base",
            "_view_module_version": "1.2.0",
            "_view_name": "LayoutView",
            "align_content": null,
            "align_items": null,
            "align_self": null,
            "border": null,
            "bottom": null,
            "display": null,
            "flex": null,
            "flex_flow": null,
            "grid_area": null,
            "grid_auto_columns": null,
            "grid_auto_flow": null,
            "grid_auto_rows": null,
            "grid_column": null,
            "grid_gap": null,
            "grid_row": null,
            "grid_template_areas": null,
            "grid_template_columns": null,
            "grid_template_rows": null,
            "height": null,
            "justify_content": null,
            "justify_items": null,
            "left": null,
            "margin": null,
            "max_height": null,
            "max_width": null,
            "min_height": null,
            "min_width": null,
            "object_fit": null,
            "object_position": null,
            "order": null,
            "overflow": null,
            "overflow_x": null,
            "overflow_y": null,
            "padding": null,
            "right": null,
            "top": null,
            "visibility": null,
            "width": null
          }
        },
        "d4c3c44076d34ac4b5114dbb89e0d9d1": {
          "model_module": "@jupyter-widgets/base",
          "model_name": "LayoutModel",
          "model_module_version": "1.2.0",
          "state": {
            "_model_module": "@jupyter-widgets/base",
            "_model_module_version": "1.2.0",
            "_model_name": "LayoutModel",
            "_view_count": null,
            "_view_module": "@jupyter-widgets/base",
            "_view_module_version": "1.2.0",
            "_view_name": "LayoutView",
            "align_content": null,
            "align_items": null,
            "align_self": null,
            "border": null,
            "bottom": null,
            "display": null,
            "flex": null,
            "flex_flow": null,
            "grid_area": null,
            "grid_auto_columns": null,
            "grid_auto_flow": null,
            "grid_auto_rows": null,
            "grid_column": null,
            "grid_gap": null,
            "grid_row": null,
            "grid_template_areas": null,
            "grid_template_columns": null,
            "grid_template_rows": null,
            "height": null,
            "justify_content": null,
            "justify_items": null,
            "left": null,
            "margin": null,
            "max_height": null,
            "max_width": null,
            "min_height": null,
            "min_width": null,
            "object_fit": null,
            "object_position": null,
            "order": null,
            "overflow": null,
            "overflow_x": null,
            "overflow_y": null,
            "padding": null,
            "right": null,
            "top": null,
            "visibility": null,
            "width": null
          }
        },
        "5f416d98d344417bb4a2b80237cee25e": {
          "model_module": "@jupyter-widgets/controls",
          "model_name": "DescriptionStyleModel",
          "model_module_version": "1.5.0",
          "state": {
            "_model_module": "@jupyter-widgets/controls",
            "_model_module_version": "1.5.0",
            "_model_name": "DescriptionStyleModel",
            "_view_count": null,
            "_view_module": "@jupyter-widgets/base",
            "_view_module_version": "1.2.0",
            "_view_name": "StyleView",
            "description_width": ""
          }
        },
        "017a584809aa40ef942bffd53acf8c59": {
          "model_module": "@jupyter-widgets/base",
          "model_name": "LayoutModel",
          "model_module_version": "1.2.0",
          "state": {
            "_model_module": "@jupyter-widgets/base",
            "_model_module_version": "1.2.0",
            "_model_name": "LayoutModel",
            "_view_count": null,
            "_view_module": "@jupyter-widgets/base",
            "_view_module_version": "1.2.0",
            "_view_name": "LayoutView",
            "align_content": null,
            "align_items": null,
            "align_self": null,
            "border": null,
            "bottom": null,
            "display": null,
            "flex": null,
            "flex_flow": null,
            "grid_area": null,
            "grid_auto_columns": null,
            "grid_auto_flow": null,
            "grid_auto_rows": null,
            "grid_column": null,
            "grid_gap": null,
            "grid_row": null,
            "grid_template_areas": null,
            "grid_template_columns": null,
            "grid_template_rows": null,
            "height": null,
            "justify_content": null,
            "justify_items": null,
            "left": null,
            "margin": null,
            "max_height": null,
            "max_width": null,
            "min_height": null,
            "min_width": null,
            "object_fit": null,
            "object_position": null,
            "order": null,
            "overflow": null,
            "overflow_x": null,
            "overflow_y": null,
            "padding": null,
            "right": null,
            "top": null,
            "visibility": null,
            "width": null
          }
        },
        "ca5f3390d87a45b7b9d64a1fb4a19664": {
          "model_module": "@jupyter-widgets/controls",
          "model_name": "ProgressStyleModel",
          "model_module_version": "1.5.0",
          "state": {
            "_model_module": "@jupyter-widgets/controls",
            "_model_module_version": "1.5.0",
            "_model_name": "ProgressStyleModel",
            "_view_count": null,
            "_view_module": "@jupyter-widgets/base",
            "_view_module_version": "1.2.0",
            "_view_name": "StyleView",
            "bar_color": null,
            "description_width": ""
          }
        },
        "bd0ced7748824d9da13652911cbdfdb6": {
          "model_module": "@jupyter-widgets/base",
          "model_name": "LayoutModel",
          "model_module_version": "1.2.0",
          "state": {
            "_model_module": "@jupyter-widgets/base",
            "_model_module_version": "1.2.0",
            "_model_name": "LayoutModel",
            "_view_count": null,
            "_view_module": "@jupyter-widgets/base",
            "_view_module_version": "1.2.0",
            "_view_name": "LayoutView",
            "align_content": null,
            "align_items": null,
            "align_self": null,
            "border": null,
            "bottom": null,
            "display": null,
            "flex": null,
            "flex_flow": null,
            "grid_area": null,
            "grid_auto_columns": null,
            "grid_auto_flow": null,
            "grid_auto_rows": null,
            "grid_column": null,
            "grid_gap": null,
            "grid_row": null,
            "grid_template_areas": null,
            "grid_template_columns": null,
            "grid_template_rows": null,
            "height": null,
            "justify_content": null,
            "justify_items": null,
            "left": null,
            "margin": null,
            "max_height": null,
            "max_width": null,
            "min_height": null,
            "min_width": null,
            "object_fit": null,
            "object_position": null,
            "order": null,
            "overflow": null,
            "overflow_x": null,
            "overflow_y": null,
            "padding": null,
            "right": null,
            "top": null,
            "visibility": null,
            "width": null
          }
        },
        "b464e4871b2044cd9ccc0057c8224734": {
          "model_module": "@jupyter-widgets/controls",
          "model_name": "DescriptionStyleModel",
          "model_module_version": "1.5.0",
          "state": {
            "_model_module": "@jupyter-widgets/controls",
            "_model_module_version": "1.5.0",
            "_model_name": "DescriptionStyleModel",
            "_view_count": null,
            "_view_module": "@jupyter-widgets/base",
            "_view_module_version": "1.2.0",
            "_view_name": "StyleView",
            "description_width": ""
          }
        }
      }
    }
  },
  "cells": [
    {
      "cell_type": "code",
      "execution_count": 1,
      "metadata": {
        "id": "hPJ9Sk_cUZ5L"
      },
      "outputs": [],
      "source": [
        "import os\n",
        "import numpy as np\n",
        "import matplotlib.pyplot as plt\n"
      ]
    },
    {
      "cell_type": "code",
      "source": [
        "!nvidia-smi"
      ],
      "metadata": {
        "colab": {
          "base_uri": "https://localhost:8080/"
        },
        "id": "N1OiEit_UkQF",
        "outputId": "ae467109-a369-49ea-a77d-8030a3db3d5c"
      },
      "execution_count": 2,
      "outputs": [
        {
          "output_type": "stream",
          "name": "stdout",
          "text": [
            "/bin/bash: line 1: nvidia-smi: command not found\n"
          ]
        }
      ]
    },
    {
      "cell_type": "code",
      "source": [
        "!pip install ultralytics"
      ],
      "metadata": {
        "colab": {
          "base_uri": "https://localhost:8080/"
        },
        "id": "io-NrlANUvFv",
        "outputId": "2f4a1554-495c-45b0-b716-4ad386c42ba1"
      },
      "execution_count": 3,
      "outputs": [
        {
          "output_type": "stream",
          "name": "stdout",
          "text": [
            "Requirement already satisfied: ultralytics in /usr/local/lib/python3.10/dist-packages (8.2.48)\n",
            "Requirement already satisfied: numpy<2.0.0,>=1.23.0 in /usr/local/lib/python3.10/dist-packages (from ultralytics) (1.25.2)\n",
            "Requirement already satisfied: matplotlib>=3.3.0 in /usr/local/lib/python3.10/dist-packages (from ultralytics) (3.7.1)\n",
            "Requirement already satisfied: opencv-python>=4.6.0 in /usr/local/lib/python3.10/dist-packages (from ultralytics) (4.8.0.76)\n",
            "Requirement already satisfied: pillow>=7.1.2 in /usr/local/lib/python3.10/dist-packages (from ultralytics) (9.4.0)\n",
            "Requirement already satisfied: pyyaml>=5.3.1 in /usr/local/lib/python3.10/dist-packages (from ultralytics) (6.0.1)\n",
            "Requirement already satisfied: requests>=2.23.0 in /usr/local/lib/python3.10/dist-packages (from ultralytics) (2.31.0)\n",
            "Requirement already satisfied: scipy>=1.4.1 in /usr/local/lib/python3.10/dist-packages (from ultralytics) (1.11.4)\n",
            "Requirement already satisfied: torch>=1.8.0 in /usr/local/lib/python3.10/dist-packages (from ultralytics) (2.2.1+cu121)\n",
            "Requirement already satisfied: torchvision>=0.9.0 in /usr/local/lib/python3.10/dist-packages (from ultralytics) (0.17.1+cu121)\n",
            "Requirement already satisfied: tqdm>=4.64.0 in /usr/local/lib/python3.10/dist-packages (from ultralytics) (4.66.4)\n",
            "Requirement already satisfied: psutil in /usr/local/lib/python3.10/dist-packages (from ultralytics) (5.9.5)\n",
            "Requirement already satisfied: py-cpuinfo in /usr/local/lib/python3.10/dist-packages (from ultralytics) (9.0.0)\n",
            "Requirement already satisfied: pandas>=1.1.4 in /usr/local/lib/python3.10/dist-packages (from ultralytics) (2.0.3)\n",
            "Requirement already satisfied: seaborn>=0.11.0 in /usr/local/lib/python3.10/dist-packages (from ultralytics) (0.13.1)\n",
            "Requirement already satisfied: ultralytics-thop>=2.0.0 in /usr/local/lib/python3.10/dist-packages (from ultralytics) (2.0.0)\n",
            "Requirement already satisfied: contourpy>=1.0.1 in /usr/local/lib/python3.10/dist-packages (from matplotlib>=3.3.0->ultralytics) (1.2.1)\n",
            "Requirement already satisfied: cycler>=0.10 in /usr/local/lib/python3.10/dist-packages (from matplotlib>=3.3.0->ultralytics) (0.12.1)\n",
            "Requirement already satisfied: fonttools>=4.22.0 in /usr/local/lib/python3.10/dist-packages (from matplotlib>=3.3.0->ultralytics) (4.51.0)\n",
            "Requirement already satisfied: kiwisolver>=1.0.1 in /usr/local/lib/python3.10/dist-packages (from matplotlib>=3.3.0->ultralytics) (1.4.5)\n",
            "Requirement already satisfied: packaging>=20.0 in /usr/local/lib/python3.10/dist-packages (from matplotlib>=3.3.0->ultralytics) (24.0)\n",
            "Requirement already satisfied: pyparsing>=2.3.1 in /usr/local/lib/python3.10/dist-packages (from matplotlib>=3.3.0->ultralytics) (3.1.2)\n",
            "Requirement already satisfied: python-dateutil>=2.7 in /usr/local/lib/python3.10/dist-packages (from matplotlib>=3.3.0->ultralytics) (2.8.2)\n",
            "Requirement already satisfied: pytz>=2020.1 in /usr/local/lib/python3.10/dist-packages (from pandas>=1.1.4->ultralytics) (2023.4)\n",
            "Requirement already satisfied: tzdata>=2022.1 in /usr/local/lib/python3.10/dist-packages (from pandas>=1.1.4->ultralytics) (2024.1)\n",
            "Requirement already satisfied: charset-normalizer<4,>=2 in /usr/local/lib/python3.10/dist-packages (from requests>=2.23.0->ultralytics) (3.3.2)\n",
            "Requirement already satisfied: idna<4,>=2.5 in /usr/local/lib/python3.10/dist-packages (from requests>=2.23.0->ultralytics) (3.7)\n",
            "Requirement already satisfied: urllib3<3,>=1.21.1 in /usr/local/lib/python3.10/dist-packages (from requests>=2.23.0->ultralytics) (2.0.7)\n",
            "Requirement already satisfied: certifi>=2017.4.17 in /usr/local/lib/python3.10/dist-packages (from requests>=2.23.0->ultralytics) (2024.2.2)\n",
            "Requirement already satisfied: filelock in /usr/local/lib/python3.10/dist-packages (from torch>=1.8.0->ultralytics) (3.14.0)\n",
            "Requirement already satisfied: typing-extensions>=4.8.0 in /usr/local/lib/python3.10/dist-packages (from torch>=1.8.0->ultralytics) (4.11.0)\n",
            "Requirement already satisfied: sympy in /usr/local/lib/python3.10/dist-packages (from torch>=1.8.0->ultralytics) (1.12)\n",
            "Requirement already satisfied: networkx in /usr/local/lib/python3.10/dist-packages (from torch>=1.8.0->ultralytics) (3.3)\n",
            "Requirement already satisfied: jinja2 in /usr/local/lib/python3.10/dist-packages (from torch>=1.8.0->ultralytics) (3.1.3)\n",
            "Requirement already satisfied: fsspec in /usr/local/lib/python3.10/dist-packages (from torch>=1.8.0->ultralytics) (2023.6.0)\n",
            "Requirement already satisfied: nvidia-cuda-nvrtc-cu12==12.1.105 in /usr/local/lib/python3.10/dist-packages (from torch>=1.8.0->ultralytics) (12.1.105)\n",
            "Requirement already satisfied: nvidia-cuda-runtime-cu12==12.1.105 in /usr/local/lib/python3.10/dist-packages (from torch>=1.8.0->ultralytics) (12.1.105)\n",
            "Requirement already satisfied: nvidia-cuda-cupti-cu12==12.1.105 in /usr/local/lib/python3.10/dist-packages (from torch>=1.8.0->ultralytics) (12.1.105)\n",
            "Requirement already satisfied: nvidia-cudnn-cu12==8.9.2.26 in /usr/local/lib/python3.10/dist-packages (from torch>=1.8.0->ultralytics) (8.9.2.26)\n",
            "Requirement already satisfied: nvidia-cublas-cu12==12.1.3.1 in /usr/local/lib/python3.10/dist-packages (from torch>=1.8.0->ultralytics) (12.1.3.1)\n",
            "Requirement already satisfied: nvidia-cufft-cu12==11.0.2.54 in /usr/local/lib/python3.10/dist-packages (from torch>=1.8.0->ultralytics) (11.0.2.54)\n",
            "Requirement already satisfied: nvidia-curand-cu12==10.3.2.106 in /usr/local/lib/python3.10/dist-packages (from torch>=1.8.0->ultralytics) (10.3.2.106)\n",
            "Requirement already satisfied: nvidia-cusolver-cu12==11.4.5.107 in /usr/local/lib/python3.10/dist-packages (from torch>=1.8.0->ultralytics) (11.4.5.107)\n",
            "Requirement already satisfied: nvidia-cusparse-cu12==12.1.0.106 in /usr/local/lib/python3.10/dist-packages (from torch>=1.8.0->ultralytics) (12.1.0.106)\n",
            "Requirement already satisfied: nvidia-nccl-cu12==2.19.3 in /usr/local/lib/python3.10/dist-packages (from torch>=1.8.0->ultralytics) (2.19.3)\n",
            "Requirement already satisfied: nvidia-nvtx-cu12==12.1.105 in /usr/local/lib/python3.10/dist-packages (from torch>=1.8.0->ultralytics) (12.1.105)\n",
            "Requirement already satisfied: triton==2.2.0 in /usr/local/lib/python3.10/dist-packages (from torch>=1.8.0->ultralytics) (2.2.0)\n",
            "Requirement already satisfied: nvidia-nvjitlink-cu12 in /usr/local/lib/python3.10/dist-packages (from nvidia-cusolver-cu12==11.4.5.107->torch>=1.8.0->ultralytics) (12.5.40)\n",
            "Requirement already satisfied: six>=1.5 in /usr/local/lib/python3.10/dist-packages (from python-dateutil>=2.7->matplotlib>=3.3.0->ultralytics) (1.16.0)\n",
            "Requirement already satisfied: MarkupSafe>=2.0 in /usr/local/lib/python3.10/dist-packages (from jinja2->torch>=1.8.0->ultralytics) (2.1.5)\n",
            "Requirement already satisfied: mpmath>=0.19 in /usr/local/lib/python3.10/dist-packages (from sympy->torch>=1.8.0->ultralytics) (1.3.0)\n"
          ]
        }
      ]
    },
    {
      "cell_type": "code",
      "source": [],
      "metadata": {
        "id": "b6pEoLZeUvDT"
      },
      "execution_count": 3,
      "outputs": []
    },
    {
      "cell_type": "code",
      "source": [
        "from ultralytics import YOLO\n",
        "import os\n",
        "from IPython.display import display,Image\n",
        "from IPython import display\n",
        "display.clear_output()\n",
        "!yolo mode=checks"
      ],
      "metadata": {
        "colab": {
          "base_uri": "https://localhost:8080/"
        },
        "id": "r1d4eXoWUvBD",
        "outputId": "cae1caf3-7bb8-4f26-e352-aa5654bb3291"
      },
      "execution_count": 4,
      "outputs": [
        {
          "output_type": "stream",
          "name": "stdout",
          "text": [
            "Traceback (most recent call last):\n",
            "  File \"/usr/local/bin/yolo\", line 8, in <module>\n",
            "    sys.exit(entrypoint())\n",
            "  File \"/usr/local/lib/python3.10/dist-packages/ultralytics/cfg/__init__.py\", line 532, in entrypoint\n",
            "    raise ValueError(f\"Invalid 'mode={mode}'. Valid modes are {MODES}.\\n{CLI_HELP_MSG}\")\n",
            "ValueError: Invalid 'mode=<module 'ultralytics.utils.checks' from '/usr/local/lib/python3.10/dist-packages/ultralytics/utils/checks.py'>'. Valid modes are {'benchmark', 'train', 'val', 'track', 'predict', 'export'}.\n",
            "\n",
            "    Arguments received: ['yolo', 'mode=checks']. Ultralytics 'yolo' commands use the following syntax:\n",
            "\n",
            "        yolo TASK MODE ARGS\n",
            "\n",
            "        Where   TASK (optional) is one of {'obb', 'classify', 'pose', 'segment', 'detect'}\n",
            "                MODE (required) is one of {'benchmark', 'train', 'val', 'track', 'predict', 'export'}\n",
            "                ARGS (optional) are any number of custom 'arg=value' pairs like 'imgsz=320' that override defaults.\n",
            "                    See all ARGS at https://docs.ultralytics.com/usage/cfg or with 'yolo cfg'\n",
            "\n",
            "    1. Train a detection model for 10 epochs with an initial learning_rate of 0.01\n",
            "        yolo train data=coco8.yaml model=yolov8n.pt epochs=10 lr0=0.01\n",
            "\n",
            "    2. Predict a YouTube video using a pretrained segmentation model at image size 320:\n",
            "        yolo predict model=yolov8n-seg.pt source='https://youtu.be/LNwODJXcvt4' imgsz=320\n",
            "\n",
            "    3. Val a pretrained detection model at batch-size 1 and image size 640:\n",
            "        yolo val model=yolov8n.pt data=coco8.yaml batch=1 imgsz=640\n",
            "\n",
            "    4. Export a YOLOv8n classification model to ONNX format at image size 224 by 128 (no TASK required)\n",
            "        yolo export model=yolov8n-cls.pt format=onnx imgsz=224,128\n",
            "\n",
            "    6. Explore your datasets using semantic search and SQL with a simple GUI powered by Ultralytics Explorer API\n",
            "        yolo explorer\n",
            "\n",
            "    5. Run special commands:\n",
            "        yolo help\n",
            "        yolo checks\n",
            "        yolo version\n",
            "        yolo settings\n",
            "        yolo copy-cfg\n",
            "        yolo cfg\n",
            "\n",
            "    Docs: https://docs.ultralytics.com\n",
            "    Community: https://community.ultralytics.com\n",
            "    GitHub: https://github.com/ultralytics/ultralytics\n",
            "    \n"
          ]
        }
      ]
    },
    {
      "cell_type": "code",
      "source": [
        "ls"
      ],
      "metadata": {
        "colab": {
          "base_uri": "https://localhost:8080/"
        },
        "id": "Io9VazV0Uu_D",
        "outputId": "e4aefce9-3512-4850-9ecc-70c63ffe53fc"
      },
      "execution_count": 5,
      "outputs": [
        {
          "output_type": "stream",
          "name": "stdout",
          "text": [
            "\u001b[0m\u001b[01;34mdrive\u001b[0m/  \u001b[01;34msample_data\u001b[0m/\n"
          ]
        }
      ]
    },
    {
      "cell_type": "code",
      "source": [
        "cd"
      ],
      "metadata": {
        "id": "L3GWRQCsUu8c",
        "colab": {
          "base_uri": "https://localhost:8080/"
        },
        "outputId": "57dfdfe1-3d94-4672-f544-61cecc4ade46"
      },
      "execution_count": 6,
      "outputs": [
        {
          "output_type": "stream",
          "name": "stdout",
          "text": [
            "/root\n"
          ]
        }
      ]
    },
    {
      "cell_type": "code",
      "source": [
        "from google.colab import drive\n",
        "drive.mount('/content/drive')\n"
      ],
      "metadata": {
        "colab": {
          "base_uri": "https://localhost:8080/"
        },
        "id": "h6gxss8GUu6c",
        "outputId": "f8e79114-97cd-4cc3-f510-c16e57b137f4"
      },
      "execution_count": 7,
      "outputs": [
        {
          "output_type": "stream",
          "name": "stdout",
          "text": [
            "Drive already mounted at /content/drive; to attempt to forcibly remount, call drive.mount(\"/content/drive\", force_remount=True).\n"
          ]
        }
      ]
    },
    {
      "cell_type": "code",
      "source": [
        "os.chdir('/content/drive/My Drive/projects/yolov8_aerial_maritime')"
      ],
      "metadata": {
        "id": "uAl9sqSnUu38"
      },
      "execution_count": 8,
      "outputs": []
    },
    {
      "cell_type": "code",
      "source": [
        "ls"
      ],
      "metadata": {
        "colab": {
          "base_uri": "https://localhost:8080/"
        },
        "id": "A9b5dKVVUu1z",
        "outputId": "55755511-8374-4e0c-e420-517e7f2ad680"
      },
      "execution_count": 9,
      "outputs": [
        {
          "output_type": "stream",
          "name": "stdout",
          "text": [
            "\u001b[0m\u001b[01;34mdata\u001b[0m/  data.yaml  README.dataset.txt  README.roboflow.txt\n"
          ]
        }
      ]
    },
    {
      "cell_type": "code",
      "source": [],
      "metadata": {
        "id": "_V0H3JpTUuzb"
      },
      "execution_count": 9,
      "outputs": []
    },
    {
      "cell_type": "code",
      "source": [
        "from google.colab import files\n"
      ],
      "metadata": {
        "id": "iz1H9MJxUuxc"
      },
      "execution_count": 10,
      "outputs": []
    },
    {
      "cell_type": "code",
      "source": [
        "from google.colab import drive\n",
        "drive.mount('/content/drive')"
      ],
      "metadata": {
        "id": "zY8xtFjeUuvL",
        "colab": {
          "base_uri": "https://localhost:8080/"
        },
        "outputId": "17cf6555-8315-44ba-865f-1a4082e3f364"
      },
      "execution_count": 11,
      "outputs": [
        {
          "output_type": "stream",
          "name": "stdout",
          "text": [
            "Drive already mounted at /content/drive; to attempt to forcibly remount, call drive.mount(\"/content/drive\", force_remount=True).\n"
          ]
        }
      ]
    },
    {
      "cell_type": "code",
      "source": [
        "train_path_img='/content/drive/MyDrive/projects/yolov8_aerial_maritime/data/train/images'\n",
        "train_path_label='/content/drive/MyDrive/projects/yolov8_aerial_maritime/data/train/labels'\n",
        "val_path_img='/content/drive/MyDrive/projects/yolov8_aerial_maritime/data/valid/images'\n",
        "val_path_label='/content/drive/MyDrive/projects/yolov8_aerial_maritime/data/valid/labels'\n",
        "test_path_img='/content/drive/MyDrive/projects/yolov8_aerial_maritime/data/test/images'\n",
        "test_path_label='/content/drive/MyDrive/projects/yolov8_aerial_maritime/data/test/labels'"
      ],
      "metadata": {
        "id": "bnDyDpMuUusz"
      },
      "execution_count": 24,
      "outputs": []
    },
    {
      "cell_type": "code",
      "source": [
        "cd data"
      ],
      "metadata": {
        "id": "zt7xf8hrUuqr",
        "colab": {
          "base_uri": "https://localhost:8080/"
        },
        "outputId": "a7bef34b-f0f1-4b7f-f043-7e1b201174a5"
      },
      "execution_count": 25,
      "outputs": [
        {
          "output_type": "stream",
          "name": "stdout",
          "text": [
            "[Errno 2] No such file or directory: 'data'\n",
            "/content/drive/My Drive/projects/yolov8_aerial_maritime/data\n"
          ]
        }
      ]
    },
    {
      "cell_type": "code",
      "source": [
        "import os\n",
        "import shutil\n",
        "import random\n",
        "from tqdm.notebook import tqdm\n",
        ""
      ],
      "metadata": {
        "id": "pB9W1GyWda6l"
      },
      "execution_count": 26,
      "outputs": []
    },
    {
      "cell_type": "code",
      "source": [
        "\n",
        "\n",
        "def train_test_split(path,neg_path=None, split = 0.2):\n",
        "    print(\"------ PROCESS STARTED -------\")\n",
        "\n",
        "\n",
        "    files = list(set([name[:-4] for name in os.listdir(path)])) ## removing duplicate names i.e. counting only number of images\n",
        "\n",
        "\n",
        "    print (f\"--- This folder has a total number of {len(files)} images---\")\n",
        "    random.seed(42)\n",
        "    random.shuffle(files)\n",
        "\n",
        "    test_size = int(len(files) * split)\n",
        "    train_size = len(files) - test_size\n",
        "\n",
        "    ## creating required directories\n",
        "\n",
        "    os.makedirs(train_path_img, exist_ok = True)\n",
        "    os.makedirs(train_path_label, exist_ok = True)\n",
        "    os.makedirs(val_path_img, exist_ok = True)\n",
        "    os.makedirs(val_path_label, exist_ok = True)\n",
        "\n",
        "\n",
        "    ### ----------- copying images to train folder\n",
        "    for filex in tqdm(files[:train_size]):\n",
        "      if filex == 'classes':\n",
        "          continue\n",
        "      shutil.copy2(path + filex + '.jpg',f\"{train_path_img}/\" + filex + '.jpg' )\n",
        "      shutil.copy2(path + filex + '.txt', f\"{train_path_label}/\" + filex + '.txt')\n",
        "\n",
        "\n",
        "\n",
        "    print(f\"------ Training data created with 80% split {len(files[:train_size])} images -------\")\n",
        "\n",
        "    if neg_path:\n",
        "        neg_images = list(set([name[:-4] for name in os.listdir(neg_path)])) ## removing duplicate names i.e. counting only number of images\n",
        "        for filex in tqdm(neg_images):\n",
        "            shutil.copy2(neg_path+filex+ \".jpg\", f\"{train_path_img}/\" + filex + '.jpg')\n",
        "\n",
        "        print(f\"------ Total  {len(neg_images)} negative images added to the training data -------\")\n",
        "\n",
        "        print(f\"------ TOTAL Training data created with {len(files[:train_size]) + len(neg_images)} images -------\")\n",
        "\n",
        "\n",
        "\n",
        "    ### copytin images to validation folder\n",
        "    for filex in tqdm(files[train_size:]):\n",
        "      if filex == 'classes':\n",
        "          continue\n",
        "      # print(\"running\")\n",
        "      shutil.copy2(path + filex + '.jpg', f\"{val_path_img}/\" + filex + '.jpg' )\n",
        "      shutil.copy2(path + filex + '.txt', f\"{val_path_label}/\" + filex + '.txt')\n",
        "\n",
        "    print(f\"------ Testing data created with a total of {len(files[train_size:])} images ----------\")\n",
        "\n",
        "    print(\"------ TASK COMPLETED -------\")\n",
        "\n",
        "## spliting the data into train-test and creating train.txt and test.txt files\n",
        "# train_test_split('/content/drive/MyDrive/custom_notebooks/yolo_data/')\n",
        "\n",
        "### for label_tag\n",
        "train_test_split('/content/drive/MyDrive/projects/yolov8_aerial_maritime/data') ### without negative images\n",
        "# train_test_split('./data/','./negative_images/') ### if you want to feed negative images\n",
        ""
      ],
      "metadata": {
        "id": "UDm6q9tPUuoj",
        "colab": {
          "base_uri": "https://localhost:8080/",
          "height": 423,
          "referenced_widgets": [
            "8439f2dac6fa4d7b8cd3c7465c4a3235",
            "cd87e6e112e148e6823b0050f31c087c",
            "d921dac1223849a4acd007df7b52fb9c",
            "799346fb54354539b3e906055921e682",
            "24d8d9b9a8a8463f9f25910c0044e6bc",
            "d4c3c44076d34ac4b5114dbb89e0d9d1",
            "5f416d98d344417bb4a2b80237cee25e",
            "017a584809aa40ef942bffd53acf8c59",
            "ca5f3390d87a45b7b9d64a1fb4a19664",
            "bd0ced7748824d9da13652911cbdfdb6",
            "b464e4871b2044cd9ccc0057c8224734"
          ]
        },
        "outputId": "a677388a-784f-4c06-c906-cfe6b4d90a45"
      },
      "execution_count": 27,
      "outputs": [
        {
          "output_type": "stream",
          "name": "stdout",
          "text": [
            "------ PROCESS STARTED -------\n",
            "--- This folder has a total number of 4 images---\n"
          ]
        },
        {
          "output_type": "display_data",
          "data": {
            "text/plain": [
              "  0%|          | 0/4 [00:00<?, ?it/s]"
            ],
            "application/vnd.jupyter.widget-view+json": {
              "version_major": 2,
              "version_minor": 0,
              "model_id": "8439f2dac6fa4d7b8cd3c7465c4a3235"
            }
          },
          "metadata": {}
        },
        {
          "output_type": "error",
          "ename": "FileNotFoundError",
          "evalue": "[Errno 2] No such file or directory: '/content/drive/MyDrive/projects/yolov8_aerial_maritime/datav.jpg'",
          "traceback": [
            "\u001b[0;31m---------------------------------------------------------------------------\u001b[0m",
            "\u001b[0;31mFileNotFoundError\u001b[0m                         Traceback (most recent call last)",
            "\u001b[0;32m<ipython-input-27-bae4af420202>\u001b[0m in \u001b[0;36m<cell line: 61>\u001b[0;34m()\u001b[0m\n\u001b[1;32m     59\u001b[0m \u001b[0;34m\u001b[0m\u001b[0m\n\u001b[1;32m     60\u001b[0m \u001b[0;31m### for label_tag\u001b[0m\u001b[0;34m\u001b[0m\u001b[0;34m\u001b[0m\u001b[0m\n\u001b[0;32m---> 61\u001b[0;31m \u001b[0mtrain_test_split\u001b[0m\u001b[0;34m(\u001b[0m\u001b[0;34m'/content/drive/MyDrive/projects/yolov8_aerial_maritime/data'\u001b[0m\u001b[0;34m)\u001b[0m \u001b[0;31m### without negative images\u001b[0m\u001b[0;34m\u001b[0m\u001b[0;34m\u001b[0m\u001b[0m\n\u001b[0m\u001b[1;32m     62\u001b[0m \u001b[0;31m# train_test_split('./data/','./negative_images/') ### if you want to feed negative images\u001b[0m\u001b[0;34m\u001b[0m\u001b[0;34m\u001b[0m\u001b[0m\n\u001b[1;32m     63\u001b[0m \u001b[0;34m\u001b[0m\u001b[0m\n",
            "\u001b[0;32m<ipython-input-27-bae4af420202>\u001b[0m in \u001b[0;36mtrain_test_split\u001b[0;34m(path, neg_path, split)\u001b[0m\n\u001b[1;32m     25\u001b[0m       \u001b[0;32mif\u001b[0m \u001b[0mfilex\u001b[0m \u001b[0;34m==\u001b[0m \u001b[0;34m'classes'\u001b[0m\u001b[0;34m:\u001b[0m\u001b[0;34m\u001b[0m\u001b[0;34m\u001b[0m\u001b[0m\n\u001b[1;32m     26\u001b[0m           \u001b[0;32mcontinue\u001b[0m\u001b[0;34m\u001b[0m\u001b[0;34m\u001b[0m\u001b[0m\n\u001b[0;32m---> 27\u001b[0;31m       \u001b[0mshutil\u001b[0m\u001b[0;34m.\u001b[0m\u001b[0mcopy2\u001b[0m\u001b[0;34m(\u001b[0m\u001b[0mpath\u001b[0m \u001b[0;34m+\u001b[0m \u001b[0mfilex\u001b[0m \u001b[0;34m+\u001b[0m \u001b[0;34m'.jpg'\u001b[0m\u001b[0;34m,\u001b[0m\u001b[0;34mf\"{train_path_img}/\"\u001b[0m \u001b[0;34m+\u001b[0m \u001b[0mfilex\u001b[0m \u001b[0;34m+\u001b[0m \u001b[0;34m'.jpg'\u001b[0m \u001b[0;34m)\u001b[0m\u001b[0;34m\u001b[0m\u001b[0;34m\u001b[0m\u001b[0m\n\u001b[0m\u001b[1;32m     28\u001b[0m       \u001b[0mshutil\u001b[0m\u001b[0;34m.\u001b[0m\u001b[0mcopy2\u001b[0m\u001b[0;34m(\u001b[0m\u001b[0mpath\u001b[0m \u001b[0;34m+\u001b[0m \u001b[0mfilex\u001b[0m \u001b[0;34m+\u001b[0m \u001b[0;34m'.txt'\u001b[0m\u001b[0;34m,\u001b[0m \u001b[0;34mf\"{train_path_label}/\"\u001b[0m \u001b[0;34m+\u001b[0m \u001b[0mfilex\u001b[0m \u001b[0;34m+\u001b[0m \u001b[0;34m'.txt'\u001b[0m\u001b[0;34m)\u001b[0m\u001b[0;34m\u001b[0m\u001b[0;34m\u001b[0m\u001b[0m\n\u001b[1;32m     29\u001b[0m \u001b[0;34m\u001b[0m\u001b[0m\n",
            "\u001b[0;32m/usr/lib/python3.10/shutil.py\u001b[0m in \u001b[0;36mcopy2\u001b[0;34m(src, dst, follow_symlinks)\u001b[0m\n\u001b[1;32m    432\u001b[0m     \u001b[0;32mif\u001b[0m \u001b[0mos\u001b[0m\u001b[0;34m.\u001b[0m\u001b[0mpath\u001b[0m\u001b[0;34m.\u001b[0m\u001b[0misdir\u001b[0m\u001b[0;34m(\u001b[0m\u001b[0mdst\u001b[0m\u001b[0;34m)\u001b[0m\u001b[0;34m:\u001b[0m\u001b[0;34m\u001b[0m\u001b[0;34m\u001b[0m\u001b[0m\n\u001b[1;32m    433\u001b[0m         \u001b[0mdst\u001b[0m \u001b[0;34m=\u001b[0m \u001b[0mos\u001b[0m\u001b[0;34m.\u001b[0m\u001b[0mpath\u001b[0m\u001b[0;34m.\u001b[0m\u001b[0mjoin\u001b[0m\u001b[0;34m(\u001b[0m\u001b[0mdst\u001b[0m\u001b[0;34m,\u001b[0m \u001b[0mos\u001b[0m\u001b[0;34m.\u001b[0m\u001b[0mpath\u001b[0m\u001b[0;34m.\u001b[0m\u001b[0mbasename\u001b[0m\u001b[0;34m(\u001b[0m\u001b[0msrc\u001b[0m\u001b[0;34m)\u001b[0m\u001b[0;34m)\u001b[0m\u001b[0;34m\u001b[0m\u001b[0;34m\u001b[0m\u001b[0m\n\u001b[0;32m--> 434\u001b[0;31m     \u001b[0mcopyfile\u001b[0m\u001b[0;34m(\u001b[0m\u001b[0msrc\u001b[0m\u001b[0;34m,\u001b[0m \u001b[0mdst\u001b[0m\u001b[0;34m,\u001b[0m \u001b[0mfollow_symlinks\u001b[0m\u001b[0;34m=\u001b[0m\u001b[0mfollow_symlinks\u001b[0m\u001b[0;34m)\u001b[0m\u001b[0;34m\u001b[0m\u001b[0;34m\u001b[0m\u001b[0m\n\u001b[0m\u001b[1;32m    435\u001b[0m     \u001b[0mcopystat\u001b[0m\u001b[0;34m(\u001b[0m\u001b[0msrc\u001b[0m\u001b[0;34m,\u001b[0m \u001b[0mdst\u001b[0m\u001b[0;34m,\u001b[0m \u001b[0mfollow_symlinks\u001b[0m\u001b[0;34m=\u001b[0m\u001b[0mfollow_symlinks\u001b[0m\u001b[0;34m)\u001b[0m\u001b[0;34m\u001b[0m\u001b[0;34m\u001b[0m\u001b[0m\n\u001b[1;32m    436\u001b[0m     \u001b[0;32mreturn\u001b[0m \u001b[0mdst\u001b[0m\u001b[0;34m\u001b[0m\u001b[0;34m\u001b[0m\u001b[0m\n",
            "\u001b[0;32m/usr/lib/python3.10/shutil.py\u001b[0m in \u001b[0;36mcopyfile\u001b[0;34m(src, dst, follow_symlinks)\u001b[0m\n\u001b[1;32m    252\u001b[0m         \u001b[0mos\u001b[0m\u001b[0;34m.\u001b[0m\u001b[0msymlink\u001b[0m\u001b[0;34m(\u001b[0m\u001b[0mos\u001b[0m\u001b[0;34m.\u001b[0m\u001b[0mreadlink\u001b[0m\u001b[0;34m(\u001b[0m\u001b[0msrc\u001b[0m\u001b[0;34m)\u001b[0m\u001b[0;34m,\u001b[0m \u001b[0mdst\u001b[0m\u001b[0;34m)\u001b[0m\u001b[0;34m\u001b[0m\u001b[0;34m\u001b[0m\u001b[0m\n\u001b[1;32m    253\u001b[0m     \u001b[0;32melse\u001b[0m\u001b[0;34m:\u001b[0m\u001b[0;34m\u001b[0m\u001b[0;34m\u001b[0m\u001b[0m\n\u001b[0;32m--> 254\u001b[0;31m         \u001b[0;32mwith\u001b[0m \u001b[0mopen\u001b[0m\u001b[0;34m(\u001b[0m\u001b[0msrc\u001b[0m\u001b[0;34m,\u001b[0m \u001b[0;34m'rb'\u001b[0m\u001b[0;34m)\u001b[0m \u001b[0;32mas\u001b[0m \u001b[0mfsrc\u001b[0m\u001b[0;34m:\u001b[0m\u001b[0;34m\u001b[0m\u001b[0;34m\u001b[0m\u001b[0m\n\u001b[0m\u001b[1;32m    255\u001b[0m             \u001b[0;32mtry\u001b[0m\u001b[0;34m:\u001b[0m\u001b[0;34m\u001b[0m\u001b[0;34m\u001b[0m\u001b[0m\n\u001b[1;32m    256\u001b[0m                 \u001b[0;32mwith\u001b[0m \u001b[0mopen\u001b[0m\u001b[0;34m(\u001b[0m\u001b[0mdst\u001b[0m\u001b[0;34m,\u001b[0m \u001b[0;34m'wb'\u001b[0m\u001b[0;34m)\u001b[0m \u001b[0;32mas\u001b[0m \u001b[0mfdst\u001b[0m\u001b[0;34m:\u001b[0m\u001b[0;34m\u001b[0m\u001b[0;34m\u001b[0m\u001b[0m\n",
            "\u001b[0;31mFileNotFoundError\u001b[0m: [Errno 2] No such file or directory: '/content/drive/MyDrive/projects/yolov8_aerial_maritime/datav.jpg'"
          ]
        }
      ]
    },
    {
      "cell_type": "code",
      "source": [
        "from ultralytics import YOLO\n",
        "\n",
        "# Load a YOLOv8 model (YOLOv8n, YOLOv8s, YOLOv8m, YOLOv8l, YOLOv8x)\n",
        "model = YOLO('yolov8n.pt')  # You can choose a different model variant if needed\n",
        "\n",
        "# Train the model\n",
        "model.train(data='/content/drive/MyDrive/projects/yolov8_aerial_maritime/data.yaml', epochs=100, imgsz=640, batch=8)\n"
      ],
      "metadata": {
        "id": "oAFMug_aYzsV",
        "colab": {
          "base_uri": "https://localhost:8080/"
        },
        "outputId": "56b946ce-0fe7-46c6-f10c-50e2717ec5d8"
      },
      "execution_count": null,
      "outputs": [
        {
          "output_type": "stream",
          "name": "stdout",
          "text": [
            "Ultralytics YOLOv8.2.48 🚀 Python-3.10.12 torch-2.2.1+cu121 CPU (Intel Xeon 2.20GHz)\n",
            "\u001b[34m\u001b[1mengine/trainer: \u001b[0mtask=detect, mode=train, model=yolov8n.pt, data=/content/drive/MyDrive/projects/yolov8_aerial_maritime/data.yaml, epochs=100, time=None, patience=100, batch=8, imgsz=640, save=True, save_period=-1, cache=False, device=None, workers=8, project=None, name=train3, exist_ok=False, pretrained=True, optimizer=auto, verbose=True, seed=0, deterministic=True, single_cls=False, rect=False, cos_lr=False, close_mosaic=10, resume=False, amp=True, fraction=1.0, profile=False, freeze=None, multi_scale=False, overlap_mask=True, mask_ratio=4, dropout=0.0, val=True, split=val, save_json=False, save_hybrid=False, conf=None, iou=0.7, max_det=300, half=False, dnn=False, plots=True, source=None, vid_stride=1, stream_buffer=False, visualize=False, augment=False, agnostic_nms=False, classes=None, retina_masks=False, embed=None, show=False, save_frames=False, save_txt=False, save_conf=False, save_crop=False, show_labels=True, show_conf=True, show_boxes=True, line_width=None, format=torchscript, keras=False, optimize=False, int8=False, dynamic=False, simplify=False, opset=None, workspace=4, nms=False, lr0=0.01, lrf=0.01, momentum=0.937, weight_decay=0.0005, warmup_epochs=3.0, warmup_momentum=0.8, warmup_bias_lr=0.1, box=7.5, cls=0.5, dfl=1.5, pose=12.0, kobj=1.0, label_smoothing=0.0, nbs=64, hsv_h=0.015, hsv_s=0.7, hsv_v=0.4, degrees=0.0, translate=0.1, scale=0.5, shear=0.0, perspective=0.0, flipud=0.0, fliplr=0.5, bgr=0.0, mosaic=1.0, mixup=0.0, copy_paste=0.0, auto_augment=randaugment, erasing=0.4, crop_fraction=1.0, cfg=None, tracker=botsort.yaml, save_dir=runs/detect/train3\n",
            "Downloading https://ultralytics.com/assets/Arial.ttf to '/root/.config/Ultralytics/Arial.ttf'...\n"
          ]
        },
        {
          "output_type": "stream",
          "name": "stderr",
          "text": [
            "100%|██████████| 755k/755k [00:00<00:00, 107MB/s]\n"
          ]
        },
        {
          "output_type": "stream",
          "name": "stdout",
          "text": [
            "Overriding model.yaml nc=80 with nc=5\n",
            "\n",
            "                   from  n    params  module                                       arguments                     \n",
            "  0                  -1  1       464  ultralytics.nn.modules.conv.Conv             [3, 16, 3, 2]                 \n",
            "  1                  -1  1      4672  ultralytics.nn.modules.conv.Conv             [16, 32, 3, 2]                \n",
            "  2                  -1  1      7360  ultralytics.nn.modules.block.C2f             [32, 32, 1, True]             \n",
            "  3                  -1  1     18560  ultralytics.nn.modules.conv.Conv             [32, 64, 3, 2]                \n",
            "  4                  -1  2     49664  ultralytics.nn.modules.block.C2f             [64, 64, 2, True]             \n",
            "  5                  -1  1     73984  ultralytics.nn.modules.conv.Conv             [64, 128, 3, 2]               \n",
            "  6                  -1  2    197632  ultralytics.nn.modules.block.C2f             [128, 128, 2, True]           \n",
            "  7                  -1  1    295424  ultralytics.nn.modules.conv.Conv             [128, 256, 3, 2]              \n",
            "  8                  -1  1    460288  ultralytics.nn.modules.block.C2f             [256, 256, 1, True]           \n",
            "  9                  -1  1    164608  ultralytics.nn.modules.block.SPPF            [256, 256, 5]                 \n",
            " 10                  -1  1         0  torch.nn.modules.upsampling.Upsample         [None, 2, 'nearest']          \n",
            " 11             [-1, 6]  1         0  ultralytics.nn.modules.conv.Concat           [1]                           \n",
            " 12                  -1  1    148224  ultralytics.nn.modules.block.C2f             [384, 128, 1]                 \n",
            " 13                  -1  1         0  torch.nn.modules.upsampling.Upsample         [None, 2, 'nearest']          \n",
            " 14             [-1, 4]  1         0  ultralytics.nn.modules.conv.Concat           [1]                           \n",
            " 15                  -1  1     37248  ultralytics.nn.modules.block.C2f             [192, 64, 1]                  \n",
            " 16                  -1  1     36992  ultralytics.nn.modules.conv.Conv             [64, 64, 3, 2]                \n",
            " 17            [-1, 12]  1         0  ultralytics.nn.modules.conv.Concat           [1]                           \n",
            " 18                  -1  1    123648  ultralytics.nn.modules.block.C2f             [192, 128, 1]                 \n",
            " 19                  -1  1    147712  ultralytics.nn.modules.conv.Conv             [128, 128, 3, 2]              \n",
            " 20             [-1, 9]  1         0  ultralytics.nn.modules.conv.Concat           [1]                           \n",
            " 21                  -1  1    493056  ultralytics.nn.modules.block.C2f             [384, 256, 1]                 \n",
            " 22        [15, 18, 21]  1    752287  ultralytics.nn.modules.head.Detect           [5, [64, 128, 256]]           \n",
            "Model summary: 225 layers, 3011823 parameters, 3011807 gradients, 8.2 GFLOPs\n",
            "\n",
            "Transferred 319/355 items from pretrained weights\n",
            "\u001b[34m\u001b[1mTensorBoard: \u001b[0mStart with 'tensorboard --logdir runs/detect/train3', view at http://localhost:6006/\n",
            "Freezing layer 'model.22.dfl.conv.weight'\n"
          ]
        },
        {
          "output_type": "stream",
          "name": "stderr",
          "text": [
            "\u001b[34m\u001b[1mtrain: \u001b[0mScanning /content/drive/MyDrive/projects/yolov8_aerial_maritime/data/train/labels... 230 images, 0 backgrounds, 0 corrupt: 100%|██████████| 230/230 [01:09<00:00,  3.30it/s]"
          ]
        },
        {
          "output_type": "stream",
          "name": "stdout",
          "text": [
            "\u001b[34m\u001b[1mtrain: \u001b[0mNew cache created: /content/drive/MyDrive/projects/yolov8_aerial_maritime/data/train/labels.cache\n"
          ]
        },
        {
          "output_type": "stream",
          "name": "stderr",
          "text": [
            "\n"
          ]
        },
        {
          "output_type": "stream",
          "name": "stdout",
          "text": [
            "\u001b[34m\u001b[1malbumentations: \u001b[0mBlur(p=0.01, blur_limit=(3, 7)), MedianBlur(p=0.01, blur_limit=(3, 7)), ToGray(p=0.01), CLAHE(p=0.01, clip_limit=(1, 4.0), tile_grid_size=(8, 8))\n"
          ]
        },
        {
          "output_type": "stream",
          "name": "stderr",
          "text": [
            "\u001b[34m\u001b[1mval: \u001b[0mScanning /content/drive/MyDrive/projects/yolov8_aerial_maritime/data/valid/labels... 61 images, 0 backgrounds, 0 corrupt: 100%|██████████| 61/61 [00:36<00:00,  1.65it/s]"
          ]
        },
        {
          "output_type": "stream",
          "name": "stdout",
          "text": [
            "\u001b[34m\u001b[1mval: \u001b[0mNew cache created: /content/drive/MyDrive/projects/yolov8_aerial_maritime/data/valid/labels.cache\n"
          ]
        },
        {
          "output_type": "stream",
          "name": "stderr",
          "text": [
            "\n"
          ]
        },
        {
          "output_type": "stream",
          "name": "stdout",
          "text": [
            "Plotting labels to runs/detect/train3/labels.jpg... \n",
            "\u001b[34m\u001b[1moptimizer:\u001b[0m 'optimizer=auto' found, ignoring 'lr0=0.01' and 'momentum=0.937' and determining best 'optimizer', 'lr0' and 'momentum' automatically... \n",
            "\u001b[34m\u001b[1moptimizer:\u001b[0m AdamW(lr=0.001111, momentum=0.9) with parameter groups 57 weight(decay=0.0), 64 weight(decay=0.0005), 63 bias(decay=0.0)\n",
            "\u001b[34m\u001b[1mTensorBoard: \u001b[0mmodel graph visualization added ✅\n",
            "Image sizes 640 train, 640 val\n",
            "Using 0 dataloader workers\n",
            "Logging results to \u001b[1mruns/detect/train3\u001b[0m\n",
            "Starting training for 100 epochs...\n",
            "\n",
            "      Epoch    GPU_mem   box_loss   cls_loss   dfl_loss  Instances       Size\n"
          ]
        },
        {
          "output_type": "stream",
          "name": "stderr",
          "text": [
            "      1/100         0G      1.793      3.526       1.75         34        640: 100%|██████████| 29/29 [02:59<00:00,  6.20s/it]\n",
            "                 Class     Images  Instances      Box(P          R      mAP50  mAP50-95): 100%|██████████| 4/4 [00:13<00:00,  3.43s/it]"
          ]
        },
        {
          "output_type": "stream",
          "name": "stdout",
          "text": [
            "                   all         61        150     0.0181      0.646      0.155     0.0645\n"
          ]
        },
        {
          "output_type": "stream",
          "name": "stderr",
          "text": [
            "\n"
          ]
        },
        {
          "output_type": "stream",
          "name": "stdout",
          "text": [
            "\n",
            "      Epoch    GPU_mem   box_loss   cls_loss   dfl_loss  Instances       Size\n"
          ]
        },
        {
          "output_type": "stream",
          "name": "stderr",
          "text": [
            "      2/100         0G       1.89      2.784      1.788         39        640: 100%|██████████| 29/29 [02:56<00:00,  6.08s/it]\n",
            "                 Class     Images  Instances      Box(P          R      mAP50  mAP50-95): 100%|██████████| 4/4 [00:13<00:00,  3.34s/it]"
          ]
        },
        {
          "output_type": "stream",
          "name": "stdout",
          "text": [
            "                   all         61        150       0.73     0.0935      0.143     0.0762\n"
          ]
        },
        {
          "output_type": "stream",
          "name": "stderr",
          "text": [
            "\n"
          ]
        },
        {
          "output_type": "stream",
          "name": "stdout",
          "text": [
            "\n",
            "      Epoch    GPU_mem   box_loss   cls_loss   dfl_loss  Instances       Size\n"
          ]
        },
        {
          "output_type": "stream",
          "name": "stderr",
          "text": [
            "      3/100         0G      1.821      2.621      1.756         35        640: 100%|██████████| 29/29 [02:55<00:00,  6.04s/it]\n",
            "                 Class     Images  Instances      Box(P          R      mAP50  mAP50-95): 100%|██████████| 4/4 [00:13<00:00,  3.41s/it]"
          ]
        },
        {
          "output_type": "stream",
          "name": "stdout",
          "text": [
            "                   all         61        150      0.748      0.184      0.188       0.08\n"
          ]
        },
        {
          "output_type": "stream",
          "name": "stderr",
          "text": [
            "\n"
          ]
        },
        {
          "output_type": "stream",
          "name": "stdout",
          "text": [
            "\n",
            "      Epoch    GPU_mem   box_loss   cls_loss   dfl_loss  Instances       Size\n"
          ]
        },
        {
          "output_type": "stream",
          "name": "stderr",
          "text": [
            "      4/100         0G      1.849      2.597      1.871         59        640:  31%|███       | 9/29 [00:53<01:56,  5.83s/it]"
          ]
        }
      ]
    },
    {
      "cell_type": "code",
      "source": [],
      "metadata": {
        "id": "NXaY-Yi7UulH",
        "colab": {
          "base_uri": "https://localhost:8080/",
          "height": 35
        },
        "outputId": "97f1aed0-2248-4ea4-a419-1ed0247e059f"
      },
      "execution_count": 28,
      "outputs": [
        {
          "output_type": "execute_result",
          "data": {
            "text/plain": [
              "''"
            ],
            "application/vnd.google.colaboratory.intrinsic+json": {
              "type": "string"
            }
          },
          "metadata": {},
          "execution_count": 28
        }
      ]
    },
    {
      "cell_type": "code",
      "source": [
        "import os\n",
        "\n",
        "# Verify train images\n",
        "print(os.listdir('/content/drive/MyDrive/projects/yolov8_aerial_maritime/data/train/images'))\n",
        "\n",
        "# Verify val images\n",
        "print(os.listdir('/content/drive/MyDrive/projects/yolov8_aerial_maritime/data/valid/images'))\n",
        "\n",
        "# Verify test images\n",
        "print(os.listdir('/content/drive/MyDrive/projects/yolov8_aerial_maritime/data/test/images'))\n"
      ],
      "metadata": {
        "id": "fR4rzpQCUujD",
        "colab": {
          "base_uri": "https://localhost:8080/"
        },
        "outputId": "c6e66744-0516-4fd1-b872-8a000f511e97"
      },
      "execution_count": 31,
      "outputs": [
        {
          "output_type": "stream",
          "name": "stdout",
          "text": [
            "['DJI_0324_JPG.rf.2ddd1699cea446f7d3ba3ebd24821d1d.jpg', 'DJI_0324_JPG.rf.26e4b59d10b56abac113d1f534dbcb48.jpg', 'DJI_0331_JPG.rf.f883a7944c15b7c7e207d70f87e43e37.jpg', 'DJI_0324_JPG.rf.58cbcb20b3d6259ed9970b3f2f0cbff3.jpg', 'DJI_0261_JPG.rf.01b8557cc35f814b020b1154a97e57e4.jpg', 'DJI_0324_JPG.rf.223e12c0a7e10fe5f37ce2e63bcc6a2c.jpg', 'DJI_0315_JPG.rf.06b5176f8601463d99a33d9caab6ed31.jpg', 'DJI_0315_JPG.rf.423ecf64f62672c7900f7a47ed0e7220.jpg', 'DJI_0306_JPG.rf.0de9c5b63f665e1e9bca000f825140ea.jpg', 'DJI_0309_JPG.rf.2ba0998a678544ae9646fd5b28d96717.jpg', 'DJI_0298_JPG.rf.54a70b0c7b7b92f4cf1e39dfc73f2aa1.jpg', 'DJI_0324_JPG.rf.4cd984dd98fa0952ef3e70c996835c28.jpg', 'DJI_0314_JPG.rf.f946db1435638de7b917aa4eb28f031a.jpg', 'DJI_0307_JPG.rf.55dab2883d8193a078b5e0e5707e8159.jpg', 'DJI_0309_JPG.rf.ff396b745fb670850426e9350cd57139.jpg', 'DJI_0264_JPG.rf.51f8dc1e35f7415164eaab1790db60bf.jpg', 'DJI_0261_JPG.rf.59b70123c75e6578da7f9af8e540f953.jpg', 'DJI_0264_JPG.rf.6073ce58664a3abec8f08958fdbd848b.jpg', 'DJI_0294_JPG.rf.f7b432679f4e0a42af4b05fde3f29c0a.jpg', 'DJI_0261_JPG.rf.4db610a974ecc0f23629c81f7de77327.jpg', 'DJI_0310_JPG.rf.16ed87bdab9164c93fcfc6382a43c83a.jpg', 'DJI_0303_JPG.rf.4daaeb7816579ce01fe22ae6b2b4c872.jpg', 'DJI_0266_JPG.rf.4fda43a9085d1fe38d25fca853ffe6fe.jpg', 'DJI_0283_JPG.rf.28c0881011b3fa0dd6447d575c1b4688.jpg', 'DJI_0328_JPG.rf.5ac98bbcf1f0372343087b5d75aa7c2f.jpg', 'DJI_0261_JPG.rf.f551cdb654d7baa0dd433fc179d5c196.jpg', 'DJI_0311_JPG.rf.4efd183ae6d4e2d25a3630722464ce04.jpg', 'DJI_0323_JPG.rf.70890fbaa12342dd486ca6cf36d6b368.jpg', 'DJI_0268_JPG.rf.5b42a8e2264b1c8bd7c10e769a89fc5f.jpg', 'DJI_0278_JPG.rf.f0e807e86957fa1ba02d4454da2da585.jpg', 'DJI_0308_JPG.rf.127e32c136b3a0bba547376ca0a4da4f.jpg', 'DJI_0325_JPG.rf.0b1a981890b7f6ec7079dd5b33ea0092.jpg', 'DJI_0261_JPG.rf.4a4237e833afa8352951c7cfb0d1c2f4.jpg', 'DJI_0279_JPG.rf.58442e0918aacf9fdee32d7fa8df779a.jpg', 'DJI_0264_JPG.rf.1ec1cfc0cac6f63b1fc7f3d53a2755c9.jpg', 'DJI_0315_JPG.rf.1551cceea4f41edffe3537d042d80fb2.jpg', 'DJI_0298_JPG.rf.63318eed727380ded7a8d605c758ba1e.jpg', 'DJI_0260_JPG.rf.0505f28fcf91d64b7027288d0f10ac42.jpg', 'DJI_0303_JPG.rf.5c0ed83baad58c8af7cbe623ee58a625.jpg', 'DJI_0258_JPG.rf.429965e44821bee805eb9ded325a5129.jpg', 'DJI_0264_JPG.rf.238c8f35aa9f256d3cfabdc85cf9b090.jpg', 'DJI_0314_JPG.rf.5c2ede2031915585fa178b9b4e10d0d7.jpg', 'DJI_0268_JPG.rf.3031ff27c93d0ae306240e590e0ea277.jpg', 'DJI_0306_JPG.rf.6851097b2e7a7d7df305814e85509795.jpg', 'DJI_0324_JPG.rf.052ae995e4ad3b879f2ee2b35b3a0015.jpg', 'DJI_0331_JPG.rf.5f96f3a45eca8729252be8d1b5b6f176.jpg', 'DJI_0268_JPG.rf.6c43e95dc274f6a0b71168dac6391197.jpg', 'DJI_0269_JPG.rf.4c42ef87dd56eb6de45c9551c58c073d.jpg', 'DJI_0279_JPG.rf.4df7c8171e34eb3d4f79540d0c2483ee.jpg', 'DJI_0325_JPG.rf.19b37f9fda0a7be0865d438a068eacee.jpg', 'DJI_0326_JPG.rf.0b21b8b4d21c987f78810e91d47f1725.jpg', 'DJI_0314_JPG.rf.2486879a481ce23c7fbbceb1a1bda900.jpg', 'DJI_0269_JPG.rf.5f79ce9cda406ca7b0434836c2094514.jpg', 'DJI_0261_JPG.rf.20954c5a87f5bd778d6f0471306d0ae8.jpg', 'DJI_0278_JPG.rf.6db55a2ce9ba1ef62412327646a925fd.jpg', 'DJI_0273_JPG.rf.13abf0cc4fb6ca2dee8da2751d51b1a8.jpg', 'DJI_0270_JPG.rf.073c7fec5664fc741da40c1a65ba3e47.jpg', 'DJI_0314_JPG.rf.1ee12f170c43b03a9db23a8084fb4744.jpg', 'DJI_0285_JPG.rf.52b9a1b2865c12bf7a4d60c4f4c6ffce.jpg', 'DJI_0268_JPG.rf.3252a66a12f34f85822a020d16d3b8b0.jpg', 'DJI_0309_JPG.rf.5f74783776bbacff023dfea5cbad4196.jpg', 'DJI_0323_JPG.rf.093f8cd0d24e98f117f7767b5be66b2d.jpg', 'DJI_0273_JPG.rf.f893334fcbef02e430335482074729d1.jpg', 'DJI_0331_JPG.rf.4f266ee5af9a7e34e8f09c88fc3bb7f5.jpg', 'DJI_0268_JPG.rf.73f1de397969339229ec0b3221bcd2e9.jpg', 'DJI_0283_JPG.rf.f168944b2ce00837e65a217fd5d779b0.jpg', 'DJI_0284_JPG.rf.240385a174cde3b6d7d51376eaab6227.jpg', 'DJI_0271_JPG.rf.2ab6292b29901e866bc19b74319d9b62.jpg', 'DJI_0324_JPG.rf.4d82b8b7731463b4698576edfad5a443.jpg', 'DJI_0314_JPG.rf.56975d3fec37565fe6cf00526151e5fb.jpg', 'DJI_0278_JPG.rf.0c007dda0e22fe72eb8224f23471df4d.jpg', 'DJI_0269_JPG.rf.5bc87e576adcfb81c3c7d844352047bb.jpg', 'DJI_0308_JPG.rf.08fef2c09844a087320af40d9db0b2d8.jpg', 'DJI_0326_JPG.rf.2c5709d7335bf4477595729ac6f2483e.jpg', 'DJI_0261_JPG.rf.5a187c69ffa094fd477e6cf0e2fbeea6.jpg', 'DJI_0279_JPG.rf.16e30efad1ec2358217ebb2fad0649f9.jpg', 'DJI_0302_JPG.rf.5c132711426b9db124e53558ecbcdddb.jpg', 'DJI_0325_JPG.rf.3ee7bd5fef92135afb9bebe299b52df8.jpg', 'DJI_0311_JPG.rf.3dcfd75efd9ac96ace3c990ed408fdf1.jpg', 'DJI_0270_JPG.rf.25644ca1d41fffa211696852d3694faa.jpg', 'DJI_0260_JPG.rf.3e9de19f2d1d7fdf8f049a24876f8b9b.jpg', 'DJI_0298_JPG.rf.57ab7423477cf8b653923f62c1236d44.jpg', 'DJI_0303_JPG.rf.4ed9b9f30d634bb6b4ad8610cba0a109.jpg', 'DJI_0268_JPG.rf.3ec0d74ce6634f9c12631d61620948f7.jpg', 'DJI_0314_JPG.rf.2b94cb2cc33c00c8638329bbebd27446.jpg', 'DJI_0264_JPG.rf.1c04d29a49c14d63cab481678f6f377e.jpg', 'DJI_0311_JPG.rf.3f00b5661dabb5cde4932c2da938933d.jpg', 'DJI_0328_JPG.rf.41447f6afc6ee253dfa9ffc73c0e85eb.jpg', 'DJI_0311_JPG.rf.63b49053133dde38ff705c9bae53df78.jpg', 'DJI_0279_JPG.rf.496cf771784afe406661578562dc183a.jpg', 'DJI_0258_JPG.rf.0c4380c012e940ff668b008ffe35a52c.jpg', 'DJI_0307_JPG.rf.6ab81f5f565b0abecc77dcb9b2f18837.jpg', 'DJI_0303_JPG.rf.001ad9009bc78262476833852f9735d4.jpg', 'DJI_0266_JPG.rf.45fc768d2766290d8599615323766f7a.jpg', 'DJI_0268_JPG.rf.512037b8ab777f3d84661de8b376c6f6.jpg', 'DJI_0322_JPG.rf.003d639fe90476e836783438c4e8a2ac.jpg', 'DJI_0298_JPG.rf.18b31e25e16a3f85c4a756febdb57fdb.jpg', 'DJI_0271_JPG.rf.78897a4d83009a292f8f7c9be76b61c4.jpg', 'DJI_0315_JPG.rf.7771a98d5d9185f0fcd43579eff00694.jpg', 'DJI_0311_JPG.rf.7a9a5b090065724fe14ddacd1c4bc75b.jpg', 'DJI_0331_JPG.rf.67bec0e69c6bc6cfbb31b1fd35209db9.jpg', 'DJI_0323_JPG.rf.ee555c1be582a4b6ed6cf9b3a23d6014.jpg', 'DJI_0269_JPG.rf.923403e0c10827d27ab5bbbcd144586e.jpg', 'DJI_0294_JPG.rf.e7f49f27980d517fb4e02a1e15f27877.jpg', 'DJI_0324_JPG.rf.7ccafda77820e805b133ab6eda8d1d12.jpg', 'DJI_0315_JPG.rf.7ed4413e437d22c6372bdc9d78c5c91e.jpg', 'DJI_0308_JPG.rf.8b8fac72307fd940bf2a59af68822191.jpg', 'DJI_0294_JPG.rf.970c4112b5ade51fd59209ec96f9e695.jpg', 'DJI_0270_JPG.rf.e9be06476f289db4dc6c388609947e83.jpg', 'DJI_0271_JPG.rf.3008918d9a1079acfac6ad4524f54f5a.jpg', 'DJI_0331_JPG.rf.d3a3aabcf4dcfee68b4aac022c042597.jpg', 'DJI_0298_JPG.rf.a83a0b7d43f0eb0805cf47b5192aa600.jpg', 'DJI_0264_JPG.rf.97285e8502f775caf0956b0dee39deb6.jpg', 'DJI_0323_JPG.rf.a0ad84aa4c9114f64c09055e3f5231e4.jpg', 'DJI_0331_JPG.rf.93a235c03faf0f9e6372342df18813bd.jpg', 'DJI_0269_JPG.rf.a8b6e56531602a2744bc97d58440ea34.jpg', 'DJI_0311_JPG.rf.e36fd60fd14cdcac711e20f6a26c9248.jpg', 'DJI_0264_JPG.rf.a4a817265067781aa8d699a12bb2911e.jpg', 'DJI_0310_JPG.rf.b54d7dcd84d37ee874cfde04b377f05e.jpg', 'DJI_0309_JPG.rf.c9586bbe8253ca72f5006676e73934ee.jpg', 'DJI_0324_JPG.rf.7dbd5bde893c8e21b571814dd8997a73.jpg', 'DJI_0268_JPG.rf.aac75c3f8ab876f7b355e3c8a95b2469.jpg', 'DJI_0326_JPG.rf.e14aaa6adc9936d81be25204e534fc20.jpg', 'DJI_0322_JPG.rf.82751781614dfe534f7407e7b84840f3.jpg', 'DJI_0311_JPG.rf.8d78b674c0038644cce1cf77acc539f1.jpg', 'DJI_0325_JPG.rf.b0b8442d5f63aa68d5697b086825be20.jpg', 'DJI_0261_JPG.rf.ddb00d1d9ac1edf4b47cc675f7189019.jpg', 'DJI_0314_JPG.rf.bc508a722e627cf0cc74cfaac6dd193a.jpg', 'DJI_0260_JPG.rf.d96e4fa73edbce6fcfae2efa29bc0a30.jpg', 'DJI_0271_JPG.rf.ecaf906f61d849fe841886815983efa9.jpg', 'DJI_0273_JPG.rf.d630649e00eda0149b77ae5248acd893.jpg', 'DJI_0302_JPG.rf.c711c15a76608e5186e4e00aa772bb79.jpg', 'DJI_0285_JPG.rf.ea1ce7038f0587c27862cddf54733d57.jpg', 'DJI_0315_JPG.rf.d6bd985f14738d78261e08efb0ef88ad.jpg', 'DJI_0302_JPG.rf.de02eac2766b85ebac791339e710f051.jpg', 'DJI_0328_JPG.rf.6755c0099d1eda00dcca861730d70f37.jpg', 'DJI_0325_JPG.rf.a610a49dda02dfdc2633f704b05704b4.jpg', 'DJI_0269_JPG.rf.a2faf74c34a78f511c390c884cff1f7d.jpg', 'DJI_0298_JPG.rf.ca9a7dad532759285b2cdc19f7721abb.jpg', 'DJI_0271_JPG.rf.d9a06aec80ca729c7a160ec3669ef333.jpg', 'DJI_0273_JPG.rf.d979120c433eacf1bc8e53fcbfcf6f4b.jpg', 'DJI_0309_JPG.rf.d9fc995010883dad1f8a6887c38e8101.jpg', 'DJI_0268_JPG.rf.aff5d584fed9c9926fff69f8753ca9b7.jpg', 'DJI_0269_JPG.rf.e946fb8b673c718996240c0f6b2a4326.jpg', 'DJI_0326_JPG.rf.92cd249f6d5091d5e8b997020a592d4f.jpg', 'DJI_0308_JPG.rf.cbc4a6418ec3ca02b20b5e20d1cea2d3.jpg', 'DJI_0266_JPG.rf.9e561800f4ad61a899a3c16c3fa0318a.jpg', 'DJI_0322_JPG.rf.9d6d7d11ac8ba6c2a2b4242d65976976.jpg', 'DJI_0264_JPG.rf.76615bbd985caf8ec54b0046b1ffddda.jpg', 'DJI_0308_JPG.rf.dddd2058b514aa201e2a650b08728b36.jpg', 'DJI_0326_JPG.rf.9d62bcd19e681a1149952c8d41e42d91.jpg', 'DJI_0309_JPG.rf.84cd8d1283a10bb5380d0268bdefb37a.jpg', 'DJI_0266_JPG.rf.9f3e222094b95c0148b7cb7c70c24e17.jpg', 'DJI_0294_JPG.rf.93d3ccd3ab2a61b7da79b33d151db1d1.jpg', 'DJI_0303_JPG.rf.9dfd41889af3e0024a44520f4cfef680.jpg', 'DJI_0326_JPG.rf.bc71f09d01293d2c87da42a281a0db63.jpg', 'DJI_0324_JPG.rf.90d7d081b84794960d31ac9a809ad91d.jpg', 'DJI_0298_JPG.rf.7940b3b2b33e08cd63c8cd734044e2f8.jpg', 'DJI_0303_JPG.rf.832d1be09431059743d72e6c9052e2e7.jpg', 'DJI_0322_JPG.rf.c3db4ca23b2b69779f079d2b2cc16f45.jpg', 'DJI_0322_JPG.rf.c143a01fa7e3c166ef2ff901baef9ed4.jpg', 'DJI_0261_JPG.rf.7e4c2f3fc8f6235d08e294d7688daa4d.jpg', 'DJI_0311_JPG.rf.b70ac6cb315fbdddebc435c8d7dd1c03.jpg', 'DJI_0269_JPG.rf.a6288e34ae453fd619b2154adfff1690.jpg', 'DJI_0273_JPG.rf.8ef5863ec79d500b35ac8a24be953912.jpg', 'DJI_0311_JPG.rf.7dbfeff8d48eb64f1b12cec6e57e7b96.jpg', 'DJI_0283_JPG.rf.c23b4de45fc476e13863996d6bea175e.jpg', 'DJI_0285_JPG.rf.7c4a8ecb79ffdf03afd38fc0ef9187f9.jpg', 'DJI_0331_JPG.rf.953516949882b274e527f8c85e375b09.jpg', 'DJI_0260_JPG.rf.8e79438086de95dd6b1bc271613b3de0.jpg', 'DJI_0322_JPG.rf.7bad9f01ccb9c252ea764ef4338eeaa9.jpg', 'DJI_0266_JPG.rf.775d2585542a7274b0a5db68d289f6ac.jpg', 'DJI_0298_JPG.rf.7567820727cfb3499b36f1f0d3a7cdd5.jpg', 'DJI_0310_JPG.rf.a4b0d9b855a5f22bb7096b4a000a9349.jpg', 'DJI_0260_JPG.rf.91e0a3aeed6da855a4e1211615622519.jpg', 'DJI_0302_JPG.rf.a0a87d800a0e4879ba8abe984ecc5c23.jpg', 'DJI_0322_JPG.rf.cc730ebb1023285b289a5e9637190d9a.jpg', 'DJI_0279_JPG.rf.87739551c690ca89b5d70107708f6139.jpg', 'DJI_0302_JPG.rf.bb2ab0b5c454de65b4927577fcb2449b.jpg', 'DJI_0310_JPG.rf.a46483cfe15217cd2ee97e605409736a.jpg', 'DJI_0258_JPG.rf.8a2dac4c0362c16422fd8f34a5f5b397.jpg', 'DJI_0266_JPG.rf.780f1678fa8d631e697cc0229255aab0.jpg', 'DJI_0306_JPG.rf.e455f2e89beee9a8ffb3e4ff32333ccf.jpg', 'DJI_0306_JPG.rf.e57f99cc158e9fc810305a5ae3163a20.jpg', 'DJI_0273_JPG.rf.ee30dc27fab878839e66fae95877169f.jpg', 'DJI_0310_JPG.rf.9fa64b52c157e3db1b38b1bd7bf73bd0.jpg', 'DJI_0303_JPG.rf.b79a5540f7a4ffdbae5eed099ac459d4.jpg', 'DJI_0258_JPG.rf.76bf09920e22673401e373d4194b3e1f.jpg', 'DJI_0322_JPG.rf.df0d40e3c85aa8034f116f83142b4903.jpg', 'DJI_0311_JPG.rf.922497c0d0e3fe39b696337c88b8fe46.jpg', 'DJI_0270_JPG.rf.e34130047510b6777acab8a79d1546e1.jpg', 'DJI_0322_JPG.rf.d63b1a073cf3eb9ae7c05024df129231.jpg', 'DJI_0264_JPG.rf.d0f3252934d1b80104e664771231034e.jpg', 'DJI_0328_JPG.rf.afb38804c848c204924b01db72dfac3d.jpg', 'DJI_0307_JPG.rf.6ffe8165c6203091d34dfa11050a5abd.jpg', 'DJI_0311_JPG.rf.6e6089974b8953db02130240b2332938.jpg', 'DJI_0310_JPG.rf.a4650e05599e76a8d5c71c5591bf829c.jpg', 'DJI_0270_JPG.rf.c49518c27b893d507a5edaf89cdf3840.jpg', 'DJI_0307_JPG.rf.6da6cc6dde4b916f8ccbf9a437352a55.jpg', 'DJI_0260_JPG.rf.c41dcae9684579c24528d36581cc07ff.jpg', 'DJI_0314_JPG.rf.bd06a8dc3ed258a60595c1286cf1ac59.jpg', 'DJI_0302_JPG.rf.7be6cce7087286382dcdecfaeff9efc5.jpg', 'DJI_0266_JPG.rf.a9f3efd140d6024bf09fcd203ed2ed5f.jpg', 'DJI_0310_JPG.rf.7146451f095798486a02f2d524008a59.jpg', 'DJI_0326_JPG.rf.c71d921595b82efa8b57dfa0410a2ee4.jpg', 'DJI_0323_JPG.rf.88533ffb62bbecb4ba603c48763aa5d0.jpg', 'DJI_0278_JPG.rf.cb2ccbd45bf913ea3045c1be1811dfea.jpg', 'DJI_0331_JPG.rf.b0fa26a816fa6c32c82498f84a792f7a.jpg', 'DJI_0270_JPG.rf.bef087482a6b330ba93bfa17eda4816a.jpg', 'DJI_0260_JPG.rf.8a65e206c6c29ab774f8240f83387594.jpg', 'DJI_0270_JPG.rf.c4c5c23047e8480752e71cb4c910bf3c.jpg', 'DJI_0323_JPG.rf.8e37b5cf8f60fd701ab24bb920fb7e1b.jpg', 'DJI_0285_JPG.rf.a6e24180f06530552da1690ba923e773.jpg', 'DJI_0308_JPG.rf.d59eaff47b66ba5aae00f3d0adcd0d3a.jpg', 'DJI_0306_JPG.rf.6f9634021ba232ec9b4159c2b9ab7458.jpg', 'DJI_0315_JPG.rf.7dd2d09ab50fa4d602a39358fb73f77e.jpg', 'DJI_0314_JPG.rf.87295b8e18facd826d730bcfae7fddc4.jpg', 'DJI_0273_JPG.rf.dab313e7220ff98b242968d0875441b9.jpg', 'DJI_0260_JPG.rf.e484773a22dcbf8d7a795935c004e1f7.jpg', 'DJI_0303_JPG.rf.743fb25ad5f323ffafc9a609494a3e75.jpg', 'DJI_0273_JPG.rf.e6fa5b56b9524692bfcd0d840e89c682.jpg', 'DJI_0328_JPG.rf.ebfe92b0c419fc4a30df419734c3a82b.jpg', 'DJI_0266_JPG.rf.adc402e50fa8652605649911ff25391d.jpg', 'DJI_0269_JPG.rf.800ce419a7370880fbfe297b9f0257d2.jpg', 'DJI_0325_JPG.rf.e5e0e854216e3aa6b01a85fa4ec5d94e.jpg', 'DJI_0331_JPG.rf.e82cdab8207f8ce0f00b001ef1c63b0e.jpg', 'DJI_0308_JPG.rf.7b6027287e0d7cf91116c736444e038e.jpg', 'DJI_0258_JPG.rf.c9d34732d58ef73927f5d98d4045d420.jpg', 'DJI_0323_JPG.rf.7980b5f2490795251744ed766421b967.jpg', 'DJI_0264_JPG.rf.b8f0b4648ef3352dbdc9847fac66b32c.jpg']\n",
            "['DJI_0299_JPG.rf.42eb3bf283df4ad3762e6a1303d549b5.jpg', 'DJI_0265_JPG.rf.083dcdd676563fd15b78b85a8b4b78d0.jpg', 'DJI_0299_JPG.rf.1bf06d092c88ef08e23f14ee590df4b1.jpg', 'DJI_0263_JPG.rf.7e8054e12a25e39953cd63748aad4f42.jpg', 'DJI_0290_JPG.rf.aa08bc2e816b1bd5f8668451f090913b.jpg', 'DJI_0317_JPG.rf.4839e1d1c144cebbeb5c2c3486c00488.jpg', 'DJI_0263_JPG.rf.a41009d000f1125843baf7fbc3377795.jpg', 'DJI_0288_JPG.rf.073380258bfed1f3a1024786d13cca44.jpg', 'DJI_0299_JPG.rf.ab5442364f8e16e9f4dd86c56aa40f85.jpg', 'DJI_0263_JPG.rf.891835272a7bfd69d9b9a5be92051c77.jpg', 'DJI_0288_JPG.rf.15c79003ccd89d3f2556bc6eee30bb64.jpg', 'DJI_0290_JPG.rf.ae3f96c518ded99286faf8176b416fbb.jpg', 'DJI_0296_JPG.rf.4b513dbc6e5450aa35e0a080ca20f99f.jpg', 'DJI_0263_JPG.rf.e3269e9699924128cb516dade7580320.jpg', 'DJI_0263_JPG.rf.66c6973468e4b6d9ebe389a3d1004d0c.jpg', 'DJI_0265_JPG.rf.20c8322a4728e164527665d553c4d068.jpg', 'DJI_0317_JPG.rf.2f8ea5682047c8d74d53921efd362b17.jpg', 'DJI_0282_JPG.rf.9dae03614262050fd4a748a0721603b9.jpg', 'DJI_0259_JPG.rf.1dd765fa322e8c82fb336c18c03339ae.jpg', 'DJI_0290_JPG.rf.7ed6d9937ed75cf3e067804faa179c5e.jpg', 'DJI_0265_JPG.rf.99d791a241f83610481b030596ef2084.jpg', 'DJI_0263_JPG.rf.f7c5b813129be3c8b73c6d8efe74c545.jpg', 'DJI_0288_JPG.rf.13c2d7da138d2c6303d2ef7b6da13f7e.jpg', 'DJI_0290_JPG.rf.aa88eb6127cbfd928346ec785ab02fd9.jpg', 'DJI_0265_JPG.rf.fec8d6058e3a6797464f6b57e78eea47.jpg', 'DJI_0263_JPG.rf.6725f48aa8b7e20b23a624a22b80fa1d.jpg', 'DJI_0263_JPG.rf.d744a2333050978915516678c7d74095.jpg', 'DJI_0317_JPG.rf.9d2bd30c6c319a69945437a2ffa60751.jpg', 'DJI_0296_JPG.rf.c9695eb54ddcc4b176d7d43a49ae5c57.jpg', 'DJI_0265_JPG.rf.641e3fba746be196a6db1a354fef8ad8.jpg', 'DJI_0265_JPG.rf.caac4ece076d18dabf084bb07cddbea3.jpg', 'DJI_0290_JPG.rf.942b28a5c1c0489bfdfc8070401358a1.jpg', 'DJI_0317_JPG.rf.23b3d1152e960d206db8ab5af560ca18.jpg', 'DJI_0259_JPG.rf.6054338acee51e45cc40ab56a3858351.jpg', 'DJI_0259_JPG.rf.bd6bf8ac004f3347f1cf4db7b5dbdb12.jpg', 'DJI_0296_JPG.rf.e891aaa244bdac5adad83b7a545fcd95.jpg', 'DJI_0265_JPG.rf.68622b97e0cde4c0f147a6dc1226230d.jpg', 'DJI_0263_JPG.rf.4dfb6126d55701b137ee250e8d75409c.jpg', 'DJI_0263_JPG.rf.c3aab29bb2009a443800314b96173f7c.jpg', 'DJI_0265_JPG.rf.226b70f4c0374c10bc703eb75d9bb945.jpg', 'DJI_0290_JPG.rf.1f45f08b2a1f6d09d24001c3db4d1c31.jpg', 'DJI_0259_JPG.rf.df5eb78cf9d9c1b930a87f55c01df623.jpg', 'DJI_0265_JPG.rf.613e3c0458d51452340c59a99fb64b20.jpg', 'DJI_0272_JPG.rf.aee02e49573d2603397db1a7c0082013.jpg', 'DJI_0299_JPG.rf.ba7841b6b057d16efc8d009f43991b78.jpg', 'DJI_0259_JPG.rf.3fd547cce359ca20ff66875213a73552.jpg', 'DJI_0263_JPG.rf.15bf947f709cf10d654177d0b53098d0.jpg', 'DJI_0299_JPG.rf.6361f408cd91c3dd17b659d91b7008af.jpg', 'DJI_0299_JPG.rf.488edfca47da7a9c4aad887a9f42e28d.jpg', 'DJI_0263_JPG.rf.a4120933e9ab1033f53041c5f7c5e1f8.jpg', 'DJI_0259_JPG.rf.0b45fb1a66b01160e062152605a3c143.jpg', 'DJI_0290_JPG.rf.6fb10af6e96ee642133d61f8a5e434d2.jpg', 'DJI_0272_JPG.rf.a7ca1e853360804d30690e70edbcfcb8.jpg', 'DJI_0272_JPG.rf.2e856a59538819de863d33f9c1b68505.jpg', 'DJI_0296_JPG.rf.fdcad58238754de585f21da6c514cd16.jpg', 'DJI_0259_JPG.rf.d28e1e48466e42158f772e3f3cf6ac9c.jpg', 'DJI_0296_JPG.rf.2b707fa864c39b799c1bb688618f6f04.jpg', 'DJI_0272_JPG.rf.4e9521e566a0e07d220d3ab02425173f.jpg', 'DJI_0290_JPG.rf.a1524ceb8614070669dc1db962ceaa20.jpg', 'DJI_0288_JPG.rf.7c390f93ff24d4a17cf41e35b9bb62a8.jpg', 'DJI_0272_JPG.rf.44bf79d219441da434dd3a60f1e56d1c.jpg']\n",
            "['DJI_0262_JPG.rf.e495eab7bad50083023383cc09ce2cf6.jpg', 'DJI_0267_JPG.rf.0a39d3f51902b67bf0162fe19793d9aa.jpg', 'DJI_0312_JPG.rf.ad362f513fe6d486cf892fedfd413962.jpg', 'DJI_0289_JPG.rf.a921cb34ab5a547d1e12afed18568aa9.jpg', 'DJI_0262_JPG.rf.5f24b2ccccf544d3bb0c3cb740be0f4b.jpg', 'DJI_0287_JPG.rf.fde419690b4bcc65f480951dccdbb3b0.jpg', 'DJI_0262_JPG.rf.3878c367b5f00b7ce0f5c9bdcb4d8486.jpg', 'DJI_0262_JPG.rf.66b031d30a28587d2c06f38af05cb4ec.jpg', 'DJI_0289_JPG.rf.a4156f4cb9e6f922f2e85f4332b9d9c8.jpg', 'DJI_0262_JPG.rf.8c378a23b8822f63a44ad24c8787fab3.jpg', 'DJI_0312_JPG.rf.08f23849d327cc10139c06bae49506f4.jpg', 'DJI_0312_JPG.rf.783c9643ea6b0f5cc51eff20b27af449.jpg', 'DJI_0289_JPG.rf.7d2ce495fb2d3a19962e761e718c3a5e.jpg', 'DJI_0289_JPG.rf.c63e18a7bec0e66e95db795d7c4f5d23.jpg', 'DJI_0267_JPG.rf.b6966e6638ec84f24caa3dcb3130be82.jpg', 'DJI_0262_JPG.rf.e82b6fbea04e31cf63b299d06ef789a9.jpg', 'DJI_0267_JPG.rf.953aea37bbe8b4eb717030f43b6b64c5.jpg', 'DJI_0262_JPG.rf.47ce7cf6d8e3e310ab9b2b5c15ebba72.jpg', 'DJI_0267_JPG.rf.659fc518abe4994a0a04b681103029cc.jpg', 'DJI_0262_JPG.rf.560b36a2e292c1b3dee7eae7e1f3fbf0.jpg', 'DJI_0312_JPG.rf.544df0e3a7b2778052c9110942b032a7.jpg', 'DJI_0267_JPG.rf.64620504f12464bfb7c09a0a5995ca8d.jpg', 'DJI_0262_JPG.rf.db0ac6979f1ee032646972240830a550.jpg', 'DJI_0289_JPG.rf.1d4ca69405f94ae5a9d87b91030c84fa.jpg', 'DJI_0267_JPG.rf.12b4ae5e9e4ac08da13f17c5e555fd8f.jpg', 'DJI_0262_JPG.rf.ace6b92f0a985e6e7b5ce8f800b2457d.jpg', 'DJI_0312_JPG.rf.de1de7038fbb98205fb3cacc8859e4ce.jpg', 'DJI_0267_JPG.rf.db20ca9a45bd94fa1000aac86f0adbab.jpg']\n"
          ]
        }
      ]
    },
    {
      "cell_type": "code",
      "source": [],
      "metadata": {
        "id": "tCqo6Yo4fcB_"
      },
      "execution_count": null,
      "outputs": []
    }
  ]
}